{
 "cells": [
  {
   "cell_type": "code",
   "execution_count": 1,
   "metadata": {
    "collapsed": false
   },
   "outputs": [],
   "source": [
    "%matplotlib inline\n",
    "# NB: per eseguire questo notebook come file Python, commentare l'istruzione \"%matplotlib inline\" qui sopra e scegliere il menù \"File -> Download as -> Python (.py)\"\n",
    "import numpy as np\n",
    "import matplotlib.pyplot as plt\n",
    "from SistemaMeccanico3gdl import *"
   ]
  },
  {
   "cell_type": "code",
   "execution_count": 2,
   "metadata": {
    "collapsed": true
   },
   "outputs": [],
   "source": [
    "s1 = SistemaMeccanico3gdl()"
   ]
  },
  {
   "cell_type": "code",
   "execution_count": 3,
   "metadata": {
    "collapsed": false
   },
   "outputs": [
    {
     "name": "stdout",
     "output_type": "stream",
     "text": [
      "M1 =  27.0\n",
      "M2 =  120.0\n",
      "M3 =  11246.0\n",
      "K1 =  180000000.0\n",
      "K2 =  60000000.0\n",
      "K3 =  120000000.0\n",
      "C1 =  50000.0\n",
      "C2 =  46000.0\n",
      "C3 =  240000.0\n",
      "coordinate di partenza: y1=0.06, y2=0.06, y3=0.05\n"
     ]
    }
   ],
   "source": [
    "s1.write()"
   ]
  },
  {
   "cell_type": "code",
   "execution_count": 4,
   "metadata": {
    "collapsed": true
   },
   "outputs": [],
   "source": [
    "A,B,C,D = s1.build_model()"
   ]
  },
  {
   "cell_type": "code",
   "execution_count": 5,
   "metadata": {
    "collapsed": false
   },
   "outputs": [
    {
     "name": "stdout",
     "output_type": "stream",
     "text": [
      "u.shape:  (256,)\n"
     ]
    }
   ],
   "source": [
    "N = 256\n",
    "u = np.zeros(N); u[0] = 1.0e6\n",
    "print(\"u.shape: \", u.shape)"
   ]
  },
  {
   "cell_type": "code",
   "execution_count": 6,
   "metadata": {
    "collapsed": false
   },
   "outputs": [
    {
     "data": {
      "image/png": "[encoded data removed]",
      "text/plain": [
       "<Figure size 432x288 with 1 Axes>"
      ]
     },
     "metadata": {},
     "output_type": "display_data"
    }
   ],
   "source": [
    "Ts = 0.001\n",
    "y1, X_hist = s1.simula_sistema(A, B, C, D, u, Ts)\n",
    "plt.figure(1); plt.plot(y1[0,:].T); plt.show()"
   ]
  },
  {
   "cell_type": "code",
   "execution_count": 7,
   "metadata": {
    "collapsed": true
   },
   "outputs": [],
   "source": [
    "s2 = SistemaMeccanico3gdl()\n",
    "A,B,C,D = s2.build_model(M1_stimato=2700.0,\\\n",
    "                         M2_stimato=None,\\\n",
    "                         M3_stimato=None,\\\n",
    "                         K1_stimato=1.8e8,\\\n",
    "                         K2_stimato=None,\\\n",
    "                         K3_stimato=None,\\\n",
    "                         C1_stimato=5.0e4,\\\n",
    "                         C2_stimato=None,\\\n",
    "                         C3_stimato=None)"
   ]
  },
  {
   "cell_type": "code",
   "execution_count": 8,
   "metadata": {
    "collapsed": false
   },
   "outputs": [
    {
     "name": "stdout",
     "output_type": "stream",
     "text": [
      "M1 =  2700.0\n",
      "M2 =  120.0\n",
      "M3 =  11246.0\n",
      "K1 =  180000000.0\n",
      "K2 =  60000000.0\n",
      "K3 =  120000000.0\n",
      "C1 =  50000.0\n",
      "C2 =  46000.0\n",
      "C3 =  240000.0\n",
      "coordinate di partenza: y1=0.06, y2=0.06, y3=0.05\n"
     ]
    }
   ],
   "source": [
    "s2.write()"
   ]
  },
  {
   "cell_type": "code",
   "execution_count": 9,
   "metadata": {
    "collapsed": false
   },
   "outputs": [
    {
     "data": {
      "image/png": "[encoded data removed]",
      "text/plain": [
       "<Figure size 432x288 with 1 Axes>"
      ]
     },
     "metadata": {},
     "output_type": "display_data"
    }
   ],
   "source": [
    "y2, X_hist = s2.simula_sistema(A, B, C, D, u, Ts)\n",
    "plt.figure(2); plt.plot(y1[0,:].T,'b-'); plt.plot(y2[0,:].T,'r--'); plt.show()"
   ]
  },
  {
   "cell_type": "code",
   "execution_count": null,
   "metadata": {
    "collapsed": true
   },
   "outputs": [],
   "source": []
  }
 ],
 "metadata": {
  "anaconda-cloud": {},
  "kernelspec": {
   "display_name": "Python [conda env:py36]",
   "language": "python",
   "name": "conda-env-py36-py"
  },
  "language_info": {
   "codemirror_mode": {
    "name": "ipython",
    "version": 3
   },
   "file_extension": ".py",
   "mimetype": "text/x-python",
   "name": "python",
   "nbconvert_exporter": "python",
   "pygments_lexer": "ipython3",
   "version": "3.6.8"
  }
 },
 "nbformat": 4,
 "nbformat_minor": 1
}
