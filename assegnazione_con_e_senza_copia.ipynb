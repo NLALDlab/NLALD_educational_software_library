{
 "cells": [
  {
   "cell_type": "code",
   "execution_count": 8,
   "metadata": {
    "collapsed": true
   },
   "outputs": [],
   "source": [
    "a = 5.03"
   ]
  },
  {
   "cell_type": "code",
   "execution_count": 9,
   "metadata": {
    "collapsed": true
   },
   "outputs": [],
   "source": [
    "b = a"
   ]
  },
  {
   "cell_type": "code",
   "execution_count": 10,
   "metadata": {},
   "outputs": [
    {
     "name": "stdout",
     "output_type": "stream",
     "text": [
      "a =  5.03\n"
     ]
    }
   ],
   "source": [
    "b = 2.0\n",
    "print(\"a = \", a)"
   ]
  },
  {
   "cell_type": "code",
   "execution_count": 11,
   "metadata": {},
   "outputs": [
    {
     "name": "stdout",
     "output_type": "stream",
     "text": [
      "k =  [1, 2, 3]\n",
      "k =  [1, 22, 3]\n",
      "m =  [1, 22, 3]\n"
     ]
    }
   ],
   "source": [
    "m = [1, 2, 3]\n",
    "k = m\n",
    "print(\"k = \", k)\n",
    "k[1] = 22\n",
    "print(\"k = \", k)\n",
    "print(\"m = \", m)"
   ]
  },
  {
   "cell_type": "code",
   "execution_count": 5,
   "metadata": {},
   "outputs": [
    {
     "name": "stdout",
     "output_type": "stream",
     "text": [
      "k =  2\n",
      "k =  22\n",
      "m =  [1, 2, 3]\n"
     ]
    }
   ],
   "source": [
    "m = [1, 2, 3]\n",
    "k = m[1]\n",
    "print(\"k = \", k)\n",
    "k = 22\n",
    "print(\"k = \", k)\n",
    "print(\"m = \", m)"
   ]
  },
  {
   "cell_type": "code",
   "execution_count": 6,
   "metadata": {},
   "outputs": [
    {
     "name": "stdout",
     "output_type": "stream",
     "text": [
      "v =  [ 1.  2.  3.  4.  5.]\n",
      "y =  [ 1.  2.  3.  4.  5.]\n",
      " \n",
      "y =  [  1.   99.9   3.    4.    5. ]\n",
      "v =  [ 1.  2.  3.  4.  5.]\n",
      " \n",
      "w =  [ 1.     2.     1.888  4.     5.   ]\n",
      "v =  [ 1.     2.     1.888  4.     5.   ]\n"
     ]
    }
   ],
   "source": [
    "import numpy as np\n",
    "v = np.array([1., 2., 3., 4., 5.])\n",
    "print(\"v = \", v)\n",
    "y = v.copy()\n",
    "print(\"y = \", y)\n",
    "print(\" \")\n",
    "y[1] = 99.9\n",
    "print(\"y = \", y)\n",
    "print(\"v = \", v)\n",
    "print(\" \")\n",
    "w = v\n",
    "w[2] = 1.888\n",
    "print(\"w = \", w)\n",
    "print(\"v = \", v)"
   ]
  },
  {
   "cell_type": "code",
   "execution_count": 7,
   "metadata": {},
   "outputs": [
    {
     "name": "stdout",
     "output_type": "stream",
     "text": [
      "a =  [  2.   4.   6.   8.  10.]\n",
      "c =  [ 1.  2.  3.  4.  5.]\n",
      " \n",
      "a =  [  2.   4.   6.   8.  10.]\n",
      "c =  [  2.   4.   6.   8.  10.]\n",
      " \n"
     ]
    }
   ],
   "source": [
    "a = np.array([1., 2., 3., 4., 5.])\n",
    "b = np.array([1., 2., 3., 4., 5.])\n",
    "c = a\n",
    "a = a + b\n",
    "print(\"a = \", a)\n",
    "print(\"c = \", c)\n",
    "print(\" \")\n",
    "a = np.array([1., 2., 3., 4., 5.])\n",
    "c = a\n",
    "a += b\n",
    "print(\"a = \", a)\n",
    "print(\"c = \", c)\n",
    "print(\" \")"
   ]
  },
  {
   "cell_type": "code",
   "execution_count": null,
   "metadata": {
    "collapsed": true
   },
   "outputs": [],
   "source": []
  }
 ],
 "metadata": {
  "anaconda-cloud": {},
  "kernelspec": {
   "display_name": "Python 3",
   "language": "python",
   "name": "python3"
  },
  "language_info": {
   "codemirror_mode": {
    "name": "ipython",
    "version": 3
   },
   "file_extension": ".py",
   "mimetype": "text/x-python",
   "name": "python",
   "nbconvert_exporter": "python",
   "pygments_lexer": "ipython3",
   "version": "3.6.8"
  }
 },
 "nbformat": 4,
 "nbformat_minor": 1
}
