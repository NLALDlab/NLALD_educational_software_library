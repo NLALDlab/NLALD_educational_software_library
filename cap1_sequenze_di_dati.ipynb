{
 "cells": [
  {
   "cell_type": "code",
   "execution_count": null,
   "metadata": {
    "collapsed": false
   },
   "outputs": [],
   "source": [
    "%matplotlib inline\n",
    "# NB: per eseguire questo notebook come file Python, commentare l'istruzione \"%matplotlib inline\" qui sopra e scegliere il menù \"File -> Download as -> Python (.py)\"\n",
    "import numpy as np  # Questo comando effettua il caricamento del modulo \"numpy\", assegnandogli un nome a scelta, es. per abbreviarlo, qui \"np\";\n",
    "                    # digita help(\"import\") per vedere una descrizione dettagliata di questo comando.\n",
    "                    # il modulo \"numpy\" contiene le routine per la manipolazione delle strutture-dati di tipo vettori e matrici,\n",
    "                    # e l'implementazione dei principali algoritmi di algebra lineare numerica. \n",
    "                    # Digita help(numpy) per vedere una (lunga) descrizione di questo modulo. \n",
    "import matplotlib.pyplot as plt"
   ]
  },
  {
   "cell_type": "code",
   "execution_count": null,
   "metadata": {
    "collapsed": true
   },
   "outputs": [],
   "source": [
    "# Un segnale discreto mono-dimensionale viene generalmente rappresentato con un vettore, ad esempio:\n",
    "s = np.array([4.4,4.3,4.0,3.5,3.8,4.6,4.2,4.4,4.3])"
   ]
  },
  {
   "cell_type": "code",
   "execution_count": null,
   "metadata": {
    "collapsed": false
   },
   "outputs": [],
   "source": [
    "# se esso è stato campionato con periodo uniforme Tc secondi, allora è utile creare un vettore con gli istanti di campionamento: \n",
    "Tc = 0.1;\n",
    "t = np.arange(0.0,np.size(s)*Tc,Tc)  # digita \"help(np.arange)\" per vedere la sintassi di questo comando\n",
    "print(\"t = \",t) # per vedere il contenuto di una variabile utilizzare \"print\"."
   ]
  },
  {
   "cell_type": "code",
   "execution_count": null,
   "metadata": {
    "collapsed": false
   },
   "outputs": [],
   "source": [
    "# per fare il grafico del segnale:\n",
    "plt.figure(1); plt.plot(t,s,'r*'); plt.show()"
   ]
  },
  {
   "cell_type": "code",
   "execution_count": null,
   "metadata": {
    "collapsed": false
   },
   "outputs": [],
   "source": [
    "# spesso, per capirne meglio l'andamento, si collegano i campioni della sequenza di dati con una linea spezzata;\n",
    "# NB: ricordarsi però che la sequenza (discreta) è definita solo nell'insieme di punti e non nel continuo:\n",
    "plt.figure(2); plt.plot(t,s,'r-*'); plt.show()"
   ]
  },
  {
   "cell_type": "code",
   "execution_count": null,
   "metadata": {
    "collapsed": true
   },
   "outputs": [],
   "source": [
    "# Quando la sequenza di dati è indicizzata dalla variabile tempo, viene spesso chiamata \"serie temporale\" o \"segnale a tempo discreto\".\n",
    "# Con un vettore di istanti temporali è possibile generare un arbitrario segnale discreto deterministico:\n",
    "sd = np.sin(2*np.pi*1.5*t) + 2*np.sin(2*np.pi*4*t);\n",
    "# o stocastico:\n",
    "ss = np.sin(2*np.pi*t) + np.random.randn(len(t));\n",
    "# la funzione \"randn()\" genera sequenze di dati pseudo-casuali secondo una distribuzione gaussiana normalizzata."
   ]
  },
  {
   "cell_type": "code",
   "execution_count": null,
   "metadata": {
    "collapsed": false,
    "scrolled": false
   },
   "outputs": [],
   "source": [
    "# Vediamo le oscillazioni dell'esponenziale discreto al variare della pulsazione discreta:\n",
    "N = 100;\n",
    "for ni in range(0,N,9):\n",
    "  omega_ni = 2*np.pi*ni/N;\n",
    "  wk = np.array([0.+(omega_ni*(0.+1.j))]) * np.arange(0,N)\n",
    "  plt.figure(ni); plt.plot(np.real(np.exp(wk)),'b-'), plt.title(['pulsazione discreta = ' + str(omega_ni/np.pi) + ' * pi [rad]']); plt.show()\n",
    "#endfor"
   ]
  },
  {
   "cell_type": "code",
   "execution_count": null,
   "metadata": {
    "collapsed": false,
    "scrolled": false
   },
   "outputs": [],
   "source": [
    "# osservazione empirica del fenomeno di \"aliasing\" :\n",
    "Tc_val = [1./64, 1./32, 1./8, 1./4, 1./3, 1./2.1, 1./2, 1./1.98, 1./1.96, 1./1.94, 1./1.92, 1./1.9, 1./1.88, 1./1.86, 1./1.15, 1./1.05, 1.];\n",
    "T = 4;\n",
    "f = 1; # frequenza [Hz]\n",
    "t = np.arange(0,T,Tc_val[0]);\n",
    "s = np.cos(2*np.pi*f*t);\n",
    "for i in range(0,len(Tc_val)):\n",
    "  Tc = Tc_val[i];\n",
    "  t = np.arange(0,T,Tc);\n",
    "  plt.figure(200+i)\n",
    "  plt.plot(t,np.cos(2*np.pi*f*t),'b*'), plt.axis([0., T, -1., 1.]);\n",
    "  plt.title(['f = ' + str(f) + ' Hz , Tc = ' + str(Tc) + ' sec , fc = ' + str(1./Tc) + ' Hz']); plt.show()\n",
    "#endfor"
   ]
  },
  {
   "cell_type": "code",
   "execution_count": null,
   "metadata": {
    "collapsed": false,
    "scrolled": false
   },
   "outputs": [],
   "source": [
    "# NB: tornare qui dopo aver visto la Trasformata di Fourier Discreta:\n",
    "# osservazione empirica del fenomeno di \"aliasing\" nel dominio delle frequenze:\n",
    "from numpy.fft import *\n",
    "Tc_val = [1./64, 1./32, 1./8, 1./4, 1./3, 1./2.1, 1./2, 1./1.98, 1./1.96, 1./1.94, 1./1.92, 1./1.9, 1./1.88, 1./1.86, 1./1.15, 1./1.05, 1.];\n",
    "T = 4;\n",
    "f = 1; # frequenza [Hz]\n",
    "for i in range(0,len(Tc_val)):\n",
    "  Tc = Tc_val[i];\n",
    "  t = np.arange(0,T,Tc);\n",
    "  plt.figure(200+i)\n",
    "  plt.plot(np.abs(fft(np.cos(2*np.pi*f*t))),'b*'), #p.axis([0., T, -1., 1.]);\n",
    "  plt.title(['f = ' + str(f) + ' Hz , Tc = ' + str(Tc) + ' sec , fc = ' + str(1./Tc) + ' Hz']); plt.show()\n",
    "#endfor"
   ]
  },
  {
   "cell_type": "code",
   "execution_count": null,
   "metadata": {
    "collapsed": true
   },
   "outputs": [],
   "source": []
  },
  {
   "cell_type": "code",
   "execution_count": null,
   "metadata": {
    "collapsed": true
   },
   "outputs": [],
   "source": []
  }
 ],
 "metadata": {
  "anaconda-cloud": {},
  "kernelspec": {
   "display_name": "Python [conda env:py36]",
   "language": "python",
   "name": "conda-env-py36-py"
  },
  "language_info": {
   "codemirror_mode": {
    "name": "ipython",
    "version": 3
   },
   "file_extension": ".py",
   "mimetype": "text/x-python",
   "name": "python",
   "nbconvert_exporter": "python",
   "pygments_lexer": "ipython3",
   "version": "3.6.8"
  }
 },
 "nbformat": 4,
 "nbformat_minor": 1
}
