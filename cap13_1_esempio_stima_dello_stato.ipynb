{
 "cells": [
  {
   "cell_type": "code",
   "execution_count": 4,
   "metadata": {
    "collapsed": true
   },
   "outputs": [],
   "source": [
    "# NB: per eseguire questo notebook come file Python, scegliere il menù \"File -> Download as -> Python (.py)\" .\n",
    "# Da Canopy, scommentando questa istruzione si hanno i grafici nella console e non in finestre aggiuntive:\n",
    "#get_ipython().magic(u'matplotlib inline')\n",
    "%matplotlib inline\n",
    "import numpy as np\n",
    "import matplotlib.pyplot as plt\n",
    "from sistemi_DLTI import *\n",
    "import control"
   ]
  },
  {
   "cell_type": "code",
   "execution_count": 5,
   "metadata": {},
   "outputs": [
    {
     "name": "stdout",
     "output_type": "stream",
     "text": [
      "0 :  indice di osservabilita = 6\n",
      "1 :  indice di osservabilita = 6\n",
      "2 :  indice di osservabilita = 6\n",
      "3 :  indice di osservabilita = 6\n",
      "4 :  indice di osservabilita = 6\n",
      "5 :  indice di osservabilita = 6\n"
     ]
    }
   ],
   "source": [
    "N = 16\n",
    "nx=6\n",
    "x0 = np.atleast_2d( np.zeros(nx) ).T\n",
    "A = np.random.rand(nx,nx)\n",
    "b = np.atleast_2d( np.random.rand(nx) ).T\n",
    "c = np.atleast_2d( np.random.rand(nx) )\n",
    "# vediamo per quali combinazioni di misura degli stati il sistema e' osservabile :\n",
    "# caso di 1 uscita:\n",
    "for i in range(nx):\n",
    "  c = np.zeros(nx); c[i]=1.0\n",
    "  OSS = c.copy()\n",
    "  for k in range(nx-1):\n",
    "    OSS = np.vstack((c, OSS@A))\n",
    "  #endfor\n",
    "  S = np.linalg.svd(OSS,compute_uv=False)\n",
    "  print(str(i) + ' :  indice di osservabilita'' = ' + str(len(np.where(S>np.linalg.norm(OSS,2)*1e-16)[0])))\n",
    "#endfor"
   ]
  },
  {
   "cell_type": "code",
   "execution_count": 6,
   "metadata": {
    "scrolled": false
   },
   "outputs": [
    {
     "name": "stdout",
     "output_type": "stream",
     "text": [
      "autovalori di A =  [0.1 0.2 0.3 0.4 0.5 0.6]\n"
     ]
    }
   ],
   "source": [
    "nx=6;\n",
    "u = 0.0 * np.atleast_2d( np.random.rand(N) )\n",
    "x0 = np.atleast_2d( np.zeros(nx) ).T\n",
    "Q,R = np.linalg.qr(np.random.randn(nx,nx))\n",
    "Q = np.asmatrix(Q)\n",
    "D = 0.1 + np.diag(0.1*np.arange(nx))  # scegliendo gli autovalori di A, impongo una dinamica predefinita al sistema\n",
    "print(\"autovalori di A = \",np.diag(D))\n",
    "A=Q@D@Q.T\n",
    "b = np.atleast_2d( np.random.rand(nx) ).T\n",
    "c = np.atleast_2d( np.random.rand(nx) )\n",
    "h, X_hist = simula_DLTI_StateSpace_discreto(A,b,c,[0],u,x0);\n",
    "h = np.squeeze(np.array(h))"
   ]
  },
  {
   "cell_type": "code",
   "execution_count": 7,
   "metadata": {},
   "outputs": [],
   "source": [
    "# calcola il guadagno dell'osservatore \n",
    "desired_eigs = 0.33*np.ones(nx) + 0.005*np.arange(nx)\n",
    "Ko = np.atleast_2d( control.acker(A.T, c.T, desired_eigs) ).T\n",
    "Ao = A - Ko*c;\n",
    "#print np.linalg.eig(Ao)"
   ]
  },
  {
   "cell_type": "code",
   "execution_count": 8,
   "metadata": {},
   "outputs": [
    {
     "name": "stdout",
     "output_type": "stream",
     "text": [
      "desired eigs modulus =  [0.33  0.335 0.34  0.345 0.35  0.355]\n",
      "actual eigs modulus =  [0.32999969 0.33500111 0.33999868 0.3450004  0.35000025 0.35499986]\n"
     ]
    }
   ],
   "source": [
    "L,V = np.linalg.eig(Ao)\n",
    "print(\"desired eigs modulus = \",np.abs(np.sort(desired_eigs)))\n",
    "print(\"actual eigs modulus = \",np.abs(np.sort(L)))"
   ]
  },
  {
   "cell_type": "code",
   "execution_count": 9,
   "metadata": {},
   "outputs": [
    {
     "data": {
      "image/png": "[encoded data removed]",
      "text/plain": [
       "<Figure size 432x288 with 1 Axes>"
      ]
     },
     "metadata": {},
     "output_type": "display_data"
    },
    {
     "data": {
      "image/png": "[encoded data removed]",
      "text/plain": [
       "<Figure size 432x288 with 1 Axes>"
      ]
     },
     "metadata": {},
     "output_type": "display_data"
    }
   ],
   "source": [
    "x0_est = np.atleast_2d( np.zeros(nx) ).T\n",
    "x = 1.0 + x0.copy()\n",
    "x_est = x0_est.copy()\n",
    "plt.figure(1); plt.plot(0.,x.T,'b+'); plt.plot(0.,x_est.T,'r.'); \n",
    "plt.figure(2);  \n",
    "y = np.zeros(N)\n",
    "for i in range(1,N):\n",
    "  y[i] = c @ x\n",
    "  x = A @ x  +  b @ np.atleast_2d(u[0,i])\n",
    "  x_est = Ao @ x_est + b * u[0,i] + Ko * y[i]\n",
    "  plt.figure(1); plt.plot(i,x.T,'b+'); plt.plot(i,x_est.T,'r.');\n",
    "  plt.figure(2); plt.plot(i,x.T-x_est.T,'g.');\n",
    "#endfor\n",
    "plt.show()"
   ]
  },
  {
   "cell_type": "code",
   "execution_count": null,
   "metadata": {
    "collapsed": true
   },
   "outputs": [],
   "source": []
  }
 ],
 "metadata": {
  "anaconda-cloud": {},
  "kernelspec": {
   "display_name": "Python 3",
   "language": "python",
   "name": "python3"
  },
  "language_info": {
   "codemirror_mode": {
    "name": "ipython",
    "version": 3
   },
   "file_extension": ".py",
   "mimetype": "text/x-python",
   "name": "python",
   "nbconvert_exporter": "python",
   "pygments_lexer": "ipython3",
   "version": "3.6.8"
  }
 },
 "nbformat": 4,
 "nbformat_minor": 1
}
