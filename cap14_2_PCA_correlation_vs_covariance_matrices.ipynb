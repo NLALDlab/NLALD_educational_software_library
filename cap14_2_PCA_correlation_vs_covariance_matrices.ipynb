{
 "cells": [
  {
   "cell_type": "code",
   "execution_count": 1,
   "metadata": {
    "collapsed": true
   },
   "outputs": [],
   "source": [
    "%matplotlib inline\n",
    "# NB: per eseguire questo notebook come file Python, commentare l'istruzione \"%matplotlib inline\" qui sopra e scegliere il menù \"File -> Download as -> Python (.py)\"\n",
    "import numpy as np\n",
    "import matplotlib.pyplot as plt"
   ]
  },
  {
   "cell_type": "code",
   "execution_count": 2,
   "metadata": {
    "collapsed": true
   },
   "outputs": [],
   "source": [
    "N = 100"
   ]
  },
  {
   "cell_type": "code",
   "execution_count": 3,
   "metadata": {},
   "outputs": [
    {
     "name": "stdout",
     "output_type": "stream",
     "text": [
      "(100, 2)\n"
     ]
    }
   ],
   "source": [
    "c1 = np.random.randn(N)\n",
    "c2 = c1 * 0.9\n",
    "A1 = np.squeeze(np.array([[c1],[c2]])).T\n",
    "print(A1.shape)"
   ]
  },
  {
   "cell_type": "code",
   "execution_count": 4,
   "metadata": {
    "collapsed": true
   },
   "outputs": [],
   "source": [
    "c1 = np.random.randn(N)\n",
    "c2 = c1 * 0.9 + 0.3*np.random.randn(N)\n",
    "A2 = np.squeeze(np.array([[c1],[c2]])).T"
   ]
  },
  {
   "cell_type": "code",
   "execution_count": 5,
   "metadata": {
    "collapsed": true
   },
   "outputs": [],
   "source": [
    "# now, let us change the unity measurement for x2 in data matrix A2, \n",
    "# e.g. considering as it would be a length, from \"m\" to \"cm\":\n",
    "c2u = (c1 * 0.9 + 0.3*np.random.randn(N))*100.0\n",
    "A2u = np.squeeze(np.array([[c1],[c2u]])).T"
   ]
  },
  {
   "cell_type": "code",
   "execution_count": 6,
   "metadata": {},
   "outputs": [
    {
     "data": {
      "image/png": "[encoded data removed]",
      "text/plain": [
       "<Figure size 432x288 with 1 Axes>"
      ]
     },
     "metadata": {},
     "output_type": "display_data"
    },
    {
     "data": {
      "image/png": "[encoded data removed]",
      "text/plain": [
       "<Figure size 432x288 with 1 Axes>"
      ]
     },
     "metadata": {},
     "output_type": "display_data"
    },
    {
     "data": {
      "image/png": "[encoded data removed]",
      "text/plain": [
       "<Figure size 432x288 with 1 Axes>"
      ]
     },
     "metadata": {},
     "output_type": "display_data"
    }
   ],
   "source": [
    "plt.figure(1), plt.plot(A1[:,0],A1[:,1],'b.'); plt.show()\n",
    "plt.figure(2), plt.plot(A2[:,0],A2[:,1],'b.'); plt.show()\n",
    "#plt.figure(3), plt.plot(A2u[:,0],A2u[:,1],'b.'); plt.show()\n",
    "plt.figure(4), plt.plot(A2u[:,0],A2u[:,1],'b.'); plt.axis('equal'); plt.show()"
   ]
  },
  {
   "cell_type": "code",
   "execution_count": 7,
   "metadata": {},
   "outputs": [
    {
     "name": "stdout",
     "output_type": "stream",
     "text": [
      "PCA with covariance matrices:\n",
      "first principal component of A2 is:  0.7424308718156718 *x1 +  0.669922682535098 *x2\n",
      "first principal component of A2u is:  -0.009545461842695621 *x1 +  -0.9999544410412954 *x2\n",
      "\n",
      "PCA with correlation matrices:\n",
      "first principal component of A2 is:  0.7071067811865475 *x1 +  0.7071067811865475 *x2\n",
      "first principal component of A2u is:  0.7071067811865475 *x1 +  0.7071067811865475 *x2\n"
     ]
    }
   ],
   "source": [
    "print(\"PCA with covariance matrices:\")\n",
    "# compute the principal components of A2 data matrix:\n",
    "C = np.cov(A2,rowvar=0)  # covariance matrix\n",
    "D,V = np.linalg.eig(C)\n",
    "I = np.argsort(D)\n",
    "I = I[-1::-1] # reverse indices: I[0] indexes the maximum eigenvalue\n",
    "#print I\n",
    "D = D[I]\n",
    "#print \"D = \",D\n",
    "V = V[:,I]\n",
    "# verify that eigenvectors have unit-norm:\n",
    "if False:\n",
    "    print(\"2-norms of eigenvectors:\")\n",
    "    print(np.linalg.norm(V[:,0]))\n",
    "    print(np.linalg.norm(V[:,1]))\n",
    "#endif\n",
    "print(\"first principal component of A2 is: \",V[0,0],\"*x1 + \",V[1,0],\"*x2\")\n",
    "# now, compute the principal components of A2u, with changed x2 unity measurement:\n",
    "Cu = np.cov(A2u,rowvar=0)  # covariance matrix\n",
    "D,V = np.linalg.eig(Cu)\n",
    "I = np.argsort(D) # sort in asending order\n",
    "I = I[-1::-1] # reverse indices: I[0] indexes the maximum eigenvalue\n",
    "#print I\n",
    "D = D[I]\n",
    "#print \"D = \",D\n",
    "V = V[:,I]\n",
    "# verify that eigenvectors have unit-norm:\n",
    "if False:\n",
    "    print(\"2-norms of eigenvectors:\")\n",
    "    print(np.linalg.norm(V[:,0]))\n",
    "    print(np.linalg.norm(V[:,1]))\n",
    "#endif\n",
    "print(\"first principal component of A2u is: \",V[0,0],\"*x1 + \",V[1,0],\"*x2\")\n",
    "print(\"\")\n",
    "print(\"PCA with correlation matrices:\")\n",
    "# compute the principal components of A2 data matrix:\n",
    "R = np.corrcoef(A2,rowvar=0)  # Pearson correlation matrix\n",
    "D,V = np.linalg.eig(R)\n",
    "I = np.argsort(D)\n",
    "I = I[-1::-1] # reverse indices: I[0] indexes the maximum eigenvalue\n",
    "#print I\n",
    "D = D[I]\n",
    "#print \"D = \",D\n",
    "V = V[:,I]\n",
    "# verify that eigenvectors have unit-norm:\n",
    "if False:\n",
    "    print(\"2-norms of eigenvectors:\")\n",
    "    print(np.linalg.norm(V[:,0]))\n",
    "    print(np.linalg.norm(V[:,1]))\n",
    "#endif\n",
    "print(\"first principal component of A2 is: \",V[0,0],\"*x1 + \",V[1,0],\"*x2\")\n",
    "# now, compute the principal components of A2u, with changed x2 unity measurement:\n",
    "Ru = np.corrcoef(A2u,rowvar=0)  # Pearson correlation matrix\n",
    "D,V = np.linalg.eig(Ru)\n",
    "I = np.argsort(D) # sort in asending order\n",
    "I = I[-1::-1] # reverse indices: I[0] indexes the maximum eigenvalue\n",
    "#print I\n",
    "D = D[I]\n",
    "#print \"D = \",D\n",
    "V = V[:,I]\n",
    "# verify that eigenvectors have unit-norm:\n",
    "if False:\n",
    "    print(\"2-norms of eigenvectors:\")\n",
    "    print(np.linalg.norm(V[:,0]))\n",
    "    print(np.linalg.norm(V[:,1]))\n",
    "#endif\n",
    "print(\"first principal component of A2u is: \",V[0,0],\"*x1 + \",V[1,0],\"*x2\")"
   ]
  },
  {
   "cell_type": "code",
   "execution_count": 9,
   "metadata": {},
   "outputs": [
    {
     "name": "stdout",
     "output_type": "stream",
     "text": [
      "[[1.         0.94799267]\n",
      " [0.94799267 1.        ]]\n",
      "[[1.         0.94368338]\n",
      " [0.94368338 1.        ]]\n"
     ]
    }
   ],
   "source": [
    "print(R)\n",
    "print(Ru)"
   ]
  },
  {
   "cell_type": "code",
   "execution_count": 11,
   "metadata": {},
   "outputs": [
    {
     "name": "stdout",
     "output_type": "stream",
     "text": [
      "[[1.09803422 0.94428515]\n",
      " [0.94428515 0.90360885]]\n",
      "[[1.09803422e+00 1.02436945e+02]\n",
      " [1.02436945e+02 1.07311125e+04]]\n"
     ]
    }
   ],
   "source": [
    "print(C)\n",
    "print(Cu)"
   ]
  },
  {
   "cell_type": "code",
   "execution_count": null,
   "metadata": {
    "collapsed": true
   },
   "outputs": [],
   "source": []
  },
  {
   "cell_type": "code",
   "execution_count": 12,
   "metadata": {
    "scrolled": false
   },
   "outputs": [
    {
     "name": "stdout",
     "output_type": "stream",
     "text": [
      "Help on function cov in module numpy:\n",
      "\n",
      "cov(m, y=None, rowvar=True, bias=False, ddof=None, fweights=None, aweights=None)\n",
      "    Estimate a covariance matrix, given data and weights.\n",
      "    \n",
      "    Covariance indicates the level to which two variables vary together.\n",
      "    If we examine N-dimensional samples, :math:`X = [x_1, x_2, ... x_N]^T`,\n",
      "    then the covariance matrix element :math:`C_{ij}` is the covariance of\n",
      "    :math:`x_i` and :math:`x_j`. The element :math:`C_{ii}` is the variance\n",
      "    of :math:`x_i`.\n",
      "    \n",
      "    See the notes for an outline of the algorithm.\n",
      "    \n",
      "    Parameters\n",
      "    ----------\n",
      "    m : array_like\n",
      "        A 1-D or 2-D array containing multiple variables and observations.\n",
      "        Each row of `m` represents a variable, and each column a single\n",
      "        observation of all those variables. Also see `rowvar` below.\n",
      "    y : array_like, optional\n",
      "        An additional set of variables and observations. `y` has the same form\n",
      "        as that of `m`.\n",
      "    rowvar : bool, optional\n",
      "        If `rowvar` is True (default), then each row represents a\n",
      "        variable, with observations in the columns. Otherwise, the relationship\n",
      "        is transposed: each column represents a variable, while the rows\n",
      "        contain observations.\n",
      "    bias : bool, optional\n",
      "        Default normalization (False) is by ``(N - 1)``, where ``N`` is the\n",
      "        number of observations given (unbiased estimate). If `bias` is True,\n",
      "        then normalization is by ``N``. These values can be overridden by using\n",
      "        the keyword ``ddof`` in numpy versions >= 1.5.\n",
      "    ddof : int, optional\n",
      "        If not ``None`` the default value implied by `bias` is overridden.\n",
      "        Note that ``ddof=1`` will return the unbiased estimate, even if both\n",
      "        `fweights` and `aweights` are specified, and ``ddof=0`` will return\n",
      "        the simple average. See the notes for the details. The default value\n",
      "        is ``None``.\n",
      "    \n",
      "        .. versionadded:: 1.5\n",
      "    fweights : array_like, int, optional\n",
      "        1-D array of integer frequency weights; the number of times each\n",
      "        observation vector should be repeated.\n",
      "    \n",
      "        .. versionadded:: 1.10\n",
      "    aweights : array_like, optional\n",
      "        1-D array of observation vector weights. These relative weights are\n",
      "        typically large for observations considered \"important\" and smaller for\n",
      "        observations considered less \"important\". If ``ddof=0`` the array of\n",
      "        weights can be used to assign probabilities to observation vectors.\n",
      "    \n",
      "        .. versionadded:: 1.10\n",
      "    \n",
      "    Returns\n",
      "    -------\n",
      "    out : ndarray\n",
      "        The covariance matrix of the variables.\n",
      "    \n",
      "    See Also\n",
      "    --------\n",
      "    corrcoef : Normalized covariance matrix\n",
      "    \n",
      "    Notes\n",
      "    -----\n",
      "    Assume that the observations are in the columns of the observation\n",
      "    array `m` and let ``f = fweights`` and ``a = aweights`` for brevity. The\n",
      "    steps to compute the weighted covariance are as follows::\n",
      "    \n",
      "        >>> m = np.arange(10, dtype=np.float64)\n",
      "        >>> f = np.arange(10) * 2\n",
      "        >>> a = np.arange(10) ** 2.\n",
      "        >>> ddof = 1\n",
      "        >>> w = f * a\n",
      "        >>> v1 = np.sum(w)\n",
      "        >>> v2 = np.sum(w * a)\n",
      "        >>> m -= np.sum(m * w, axis=None, keepdims=True) / v1\n",
      "        >>> cov = np.dot(m * w, m.T) * v1 / (v1**2 - ddof * v2)\n",
      "    \n",
      "    Note that when ``a == 1``, the normalization factor\n",
      "    ``v1 / (v1**2 - ddof * v2)`` goes over to ``1 / (np.sum(f) - ddof)``\n",
      "    as it should.\n",
      "    \n",
      "    Examples\n",
      "    --------\n",
      "    Consider two variables, :math:`x_0` and :math:`x_1`, which\n",
      "    correlate perfectly, but in opposite directions:\n",
      "    \n",
      "    >>> x = np.array([[0, 2], [1, 1], [2, 0]]).T\n",
      "    >>> x\n",
      "    array([[0, 1, 2],\n",
      "           [2, 1, 0]])\n",
      "    \n",
      "    Note how :math:`x_0` increases while :math:`x_1` decreases. The covariance\n",
      "    matrix shows this clearly:\n",
      "    \n",
      "    >>> np.cov(x)\n",
      "    array([[ 1., -1.],\n",
      "           [-1.,  1.]])\n",
      "    \n",
      "    Note that element :math:`C_{0,1}`, which shows the correlation between\n",
      "    :math:`x_0` and :math:`x_1`, is negative.\n",
      "    \n",
      "    Further, note how `x` and `y` are combined:\n",
      "    \n",
      "    >>> x = [-2.1, -1,  4.3]\n",
      "    >>> y = [3,  1.1,  0.12]\n",
      "    >>> X = np.stack((x, y), axis=0)\n",
      "    >>> np.cov(X)\n",
      "    array([[11.71      , -4.286     ], # may vary\n",
      "           [-4.286     ,  2.144133]])\n",
      "    >>> np.cov(x, y)\n",
      "    array([[11.71      , -4.286     ], # may vary\n",
      "           [-4.286     ,  2.144133]])\n",
      "    >>> np.cov(x)\n",
      "    array(11.71)\n",
      "\n"
     ]
    }
   ],
   "source": [
    "help(np.cov)"
   ]
  },
  {
   "cell_type": "code",
   "execution_count": 13,
   "metadata": {},
   "outputs": [
    {
     "name": "stdout",
     "output_type": "stream",
     "text": [
      "Help on function corrcoef in module numpy:\n",
      "\n",
      "corrcoef(x, y=None, rowvar=True, bias=<no value>, ddof=<no value>)\n",
      "    Return Pearson product-moment correlation coefficients.\n",
      "    \n",
      "    Please refer to the documentation for `cov` for more detail.  The\n",
      "    relationship between the correlation coefficient matrix, `R`, and the\n",
      "    covariance matrix, `C`, is\n",
      "    \n",
      "    .. math:: R_{ij} = \\frac{ C_{ij} } { \\sqrt{ C_{ii} * C_{jj} } }\n",
      "    \n",
      "    The values of `R` are between -1 and 1, inclusive.\n",
      "    \n",
      "    Parameters\n",
      "    ----------\n",
      "    x : array_like\n",
      "        A 1-D or 2-D array containing multiple variables and observations.\n",
      "        Each row of `x` represents a variable, and each column a single\n",
      "        observation of all those variables. Also see `rowvar` below.\n",
      "    y : array_like, optional\n",
      "        An additional set of variables and observations. `y` has the same\n",
      "        shape as `x`.\n",
      "    rowvar : bool, optional\n",
      "        If `rowvar` is True (default), then each row represents a\n",
      "        variable, with observations in the columns. Otherwise, the relationship\n",
      "        is transposed: each column represents a variable, while the rows\n",
      "        contain observations.\n",
      "    bias : _NoValue, optional\n",
      "        Has no effect, do not use.\n",
      "    \n",
      "        .. deprecated:: 1.10.0\n",
      "    ddof : _NoValue, optional\n",
      "        Has no effect, do not use.\n",
      "    \n",
      "        .. deprecated:: 1.10.0\n",
      "    \n",
      "    Returns\n",
      "    -------\n",
      "    R : ndarray\n",
      "        The correlation coefficient matrix of the variables.\n",
      "    \n",
      "    See Also\n",
      "    --------\n",
      "    cov : Covariance matrix\n",
      "    \n",
      "    Notes\n",
      "    -----\n",
      "    Due to floating point rounding the resulting array may not be Hermitian,\n",
      "    the diagonal elements may not be 1, and the elements may not satisfy the\n",
      "    inequality abs(a) <= 1. The real and imaginary parts are clipped to the\n",
      "    interval [-1,  1] in an attempt to improve on that situation but is not\n",
      "    much help in the complex case.\n",
      "    \n",
      "    This function accepts but discards arguments `bias` and `ddof`.  This is\n",
      "    for backwards compatibility with previous versions of this function.  These\n",
      "    arguments had no effect on the return values of the function and can be\n",
      "    safely ignored in this and previous versions of numpy.\n",
      "\n"
     ]
    }
   ],
   "source": [
    "help(np.corrcoef)"
   ]
  },
  {
   "cell_type": "code",
   "execution_count": null,
   "metadata": {
    "collapsed": true
   },
   "outputs": [],
   "source": []
  }
 ],
 "metadata": {
  "anaconda-cloud": {},
  "kernelspec": {
   "display_name": "Python 3",
   "language": "python",
   "name": "python3"
  },
  "language_info": {
   "codemirror_mode": {
    "name": "ipython",
    "version": 3
   },
   "file_extension": ".py",
   "mimetype": "text/x-python",
   "name": "python",
   "nbconvert_exporter": "python",
   "pygments_lexer": "ipython3",
   "version": "3.6.8"
  }
 },
 "nbformat": 4,
 "nbformat_minor": 1
}
