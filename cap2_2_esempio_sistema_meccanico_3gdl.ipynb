{
 "cells": [
  {
   "cell_type": "code",
   "execution_count": 2,
   "metadata": {
    "collapsed": false
   },
   "outputs": [
    {
     "name": "stdout",
     "output_type": "stream",
     "text": [
      "M1 =  27.0\n",
      "M2 =  120.0\n",
      "M3 =  11246.0\n",
      "K1 =  180000000.0\n",
      "K2 =  60000000.0\n",
      "K3 =  120000000.0\n",
      "C1 =  50000.0\n",
      "C2 =  46000.0\n",
      "C3 =  240000.0\n",
      "coordinate di partenza: y1=0.06, y2=0.06, y3=0.05\n"
     ]
    }
   ],
   "source": [
    "%matplotlib inline\n",
    "# NB: per eseguire questo notebook come file Python, commentare l'istruzione \"%matplotlib inline\" qui sopra e scegliere il menù \"File -> Download as -> Python (.py)\"\n",
    "import numpy as np\n",
    "import matplotlib.pyplot as plt\n",
    "from sistema_meccanico_3gdl import *"
   ]
  },
  {
   "cell_type": "code",
   "execution_count": 3,
   "metadata": {
    "collapsed": false
   },
   "outputs": [],
   "source": [
    "A,B,C,D = build_sistema_meccanico_3gdl()\n",
    "A,B,C,D = build_sistema_meccanico_3gdl(M1_stimato=10.0)\n",
    "#A,B,C,D = build_sistema_meccanico_3gdl(10.0)"
   ]
  },
  {
   "cell_type": "code",
   "execution_count": 4,
   "metadata": {
    "collapsed": false
   },
   "outputs": [
    {
     "name": "stdout",
     "output_type": "stream",
     "text": [
      "[[-1.85185185e+03  1.85185185e+03  0.00000000e+00 -6.66666667e+06\n",
      "   6.66666667e+06  0.00000000e+00]\n",
      " [ 4.16666667e+02 -8.00000000e+02  3.83333333e+02  1.50000000e+06\n",
      "  -2.00000000e+06  5.00000000e+05]\n",
      " [ 0.00000000e+00  4.09034323e+00 -2.54312644e+01  0.00000000e+00\n",
      "   5.33523030e+03 -1.60056909e+04]\n",
      " [ 1.00000000e+00  0.00000000e+00  0.00000000e+00  0.00000000e+00\n",
      "   0.00000000e+00  0.00000000e+00]\n",
      " [ 0.00000000e+00  1.00000000e+00  0.00000000e+00  0.00000000e+00\n",
      "   0.00000000e+00  0.00000000e+00]\n",
      " [ 0.00000000e+00  0.00000000e+00  1.00000000e+00  0.00000000e+00\n",
      "   0.00000000e+00  0.00000000e+00]]\n"
     ]
    }
   ],
   "source": [
    "print(A)"
   ]
  },
  {
   "cell_type": "code",
   "execution_count": 5,
   "metadata": {
    "collapsed": false
   },
   "outputs": [
    {
     "name": "stdout",
     "output_type": "stream",
     "text": [
      "u.shape:  (256,)\n"
     ]
    }
   ],
   "source": [
    "N = 256\n",
    "u = np.zeros(N); u[0] = 1.0\n",
    "print(\"u.shape: \", u.shape)"
   ]
  },
  {
   "cell_type": "code",
   "execution_count": 6,
   "metadata": {
    "collapsed": false,
    "scrolled": true
   },
   "outputs": [
    {
     "data": {
      "image/png": "[encoded data removed]",
      "text/plain": [
       "<Figure size 432x288 with 1 Axes>"
      ]
     },
     "metadata": {},
     "output_type": "display_data"
    }
   ],
   "source": [
    "Ts = 0.001\n",
    "y, X_hist = simula_sistema_meccanico_3gdl(A, B, C, D, u, Ts)\n",
    "plt.figure(1); plt.plot(y[0,:].T); plt.show()"
   ]
  },
  {
   "cell_type": "code",
   "execution_count": null,
   "metadata": {
    "collapsed": true
   },
   "outputs": [],
   "source": []
  }
 ],
 "metadata": {
  "anaconda-cloud": {},
  "kernelspec": {
   "display_name": "Python [conda env:py36]",
   "language": "python",
   "name": "conda-env-py36-py"
  },
  "language_info": {
   "codemirror_mode": {
    "name": "ipython",
    "version": 3
   },
   "file_extension": ".py",
   "mimetype": "text/x-python",
   "name": "python",
   "nbconvert_exporter": "python",
   "pygments_lexer": "ipython3",
   "version": "3.6.8"
  }
 },
 "nbformat": 4,
 "nbformat_minor": 1
}
