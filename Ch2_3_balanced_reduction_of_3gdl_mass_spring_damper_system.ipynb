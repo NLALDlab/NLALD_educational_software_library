{
 "cells": [
  {
   "cell_type": "code",
   "execution_count": 2,
   "metadata": {},
   "outputs": [
    {
     "name": "stdout",
     "output_type": "stream",
     "text": [
      "M1 =  27.0\n",
      "M2 =  120.0\n",
      "M3 =  11246.0\n",
      "K1 =  180000000.0\n",
      "K2 =  60000000.0\n",
      "K3 =  120000000.0\n",
      "C1 =  50000.0\n",
      "C2 =  46000.0\n",
      "C3 =  240000.0\n",
      "coordinate di partenza: y1=0.06, y2=0.06, y3=0.05\n"
     ]
    }
   ],
   "source": [
    "%matplotlib inline\n",
    "# NB: per eseguire questo notebook come file Python, commentare l'istruzione \"%matplotlib inline\" qui sopra e scegliere il menù \"File -> Download as -> Python (.py)\"\n",
    "import numpy as np\n",
    "import matplotlib.pyplot as plt\n",
    "from sistema_meccanico_3gdl import *"
   ]
  },
  {
   "cell_type": "code",
   "execution_count": 3,
   "metadata": {},
   "outputs": [
    {
     "name": "stdout",
     "output_type": "stream",
     "text": [
      "Ac.shape =  (6, 6) , Bc.shape =  (6, 2) , Cc.shape =  (1, 6)\n"
     ]
    }
   ],
   "source": [
    "Ac,Bc,Cc,Dc = build_sistema_meccanico_3gdl()\n",
    "print(\"Ac.shape = \",Ac.shape,\", Bc.shape = \",Bc.shape,\", Cc.shape = \",Cc.shape)"
   ]
  },
  {
   "cell_type": "code",
   "execution_count": 4,
   "metadata": {},
   "outputs": [
    {
     "name": "stdout",
     "output_type": "stream",
     "text": [
      "we control:  [0.         0.00833333 0.         0.         0.         0.        ]\n",
      "we measure:  [0. 0. 0. 1. 0. 0.]\n"
     ]
    }
   ],
   "source": [
    "# look into \"sistema_meccanico_3gdl.build_sistema_meccanico_3gdl\": the state vector \n",
    "# is defined as in the Appendix B of the lecture notes, x = [velocities; displacements], \n",
    "# where:\n",
    "print(\"we control: \",Bc[:,0])\n",
    "print(\"we measure: \",Cc[0,:])"
   ]
  },
  {
   "cell_type": "code",
   "execution_count": 5,
   "metadata": {},
   "outputs": [
    {
     "name": "stdout",
     "output_type": "stream",
     "text": [
      "n =  6\n",
      "rank(R) =  1  , cond(R) =  1.0\n",
      "rank(R) =  2  , cond(R) =  12.506040364125813\n",
      "rank(R) =  3  , cond(R) =  40145.36571969803\n",
      "rank(R) =  4  , cond(R) =  1491774554.5717576\n",
      "rank(R) =  5  , cond(R) =  1852326761282.1013\n",
      "rank(R) =  5  , cond(R) =  8973070418388460.0\n"
     ]
    }
   ],
   "source": [
    "# implicit Euler discretization:\n",
    "Ts = 0.001\n",
    "invm = np.linalg.inv(np.eye(Ac.shape[0]) - Ts*Ac)\n",
    "A = invm.copy()\n",
    "B = Ts * invm @ Bc[:,[0]]\n",
    "n = A.shape[0]; print(\"n = \",n)\n",
    "for i in range(A.shape[0]):\n",
    "    if i==0:\n",
    "        R = B.copy()\n",
    "    else:\n",
    "        R = np.hstack((R, A**i @ B))\n",
    "    #endif\n",
    "    print(\"rank(R) = \",np.linalg.matrix_rank(R),\" , cond(R) = \",np.linalg.cond(R))\n",
    "#endfor\n",
    "G_R = R @ R.T"
   ]
  },
  {
   "cell_type": "code",
   "execution_count": 6,
   "metadata": {},
   "outputs": [
    {
     "name": "stdout",
     "output_type": "stream",
     "text": [
      "97282690697.13608\n",
      "(6, 6)\n"
     ]
    }
   ],
   "source": [
    "print(np.linalg.norm(G_R))\n",
    "print(G_R.shape)"
   ]
  },
  {
   "cell_type": "code",
   "execution_count": 7,
   "metadata": {},
   "outputs": [
    {
     "name": "stdout",
     "output_type": "stream",
     "text": [
      "rank(O) =  1  , cond(O) =  1.0\n",
      "rank(O) =  2  , cond(O) =  2.489753035701957\n",
      "rank(O) =  3  , cond(O) =  29.770325236706505\n",
      "rank(O) =  4  , cond(O) =  24804.763894125084\n",
      "rank(O) =  5  , cond(O) =  347569855.8137654\n",
      "rank(O) =  6  , cond(O) =  4581439143293.163\n"
     ]
    }
   ],
   "source": [
    "for i in range(A.shape[0]):\n",
    "    if i==0:\n",
    "        O = Cc.copy()\n",
    "    else:\n",
    "        O = np.vstack((O, Cc @ A**i))\n",
    "    #endif\n",
    "    print(\"rank(O) = \",np.linalg.matrix_rank(O),\" , cond(O) = \",np.linalg.cond(O))\n",
    "#endfor\n",
    "G_O = O.T @ O"
   ]
  },
  {
   "cell_type": "code",
   "execution_count": 8,
   "metadata": {},
   "outputs": [
    {
     "name": "stdout",
     "output_type": "stream",
     "text": [
      "Help on function eig in module numpy.linalg:\n",
      "\n",
      "eig(a)\n",
      "    Compute the eigenvalues and right eigenvectors of a square array.\n",
      "    \n",
      "    Parameters\n",
      "    ----------\n",
      "    a : (..., M, M) array\n",
      "        Matrices for which the eigenvalues and right eigenvectors will\n",
      "        be computed\n",
      "    \n",
      "    Returns\n",
      "    -------\n",
      "    w : (..., M) array\n",
      "        The eigenvalues, each repeated according to its multiplicity.\n",
      "        The eigenvalues are not necessarily ordered. The resulting\n",
      "        array will be of complex type, unless the imaginary part is\n",
      "        zero in which case it will be cast to a real type. When `a`\n",
      "        is real the resulting eigenvalues will be real (0 imaginary\n",
      "        part) or occur in conjugate pairs\n",
      "    \n",
      "    v : (..., M, M) array\n",
      "        The normalized (unit \"length\") eigenvectors, such that the\n",
      "        column ``v[:,i]`` is the eigenvector corresponding to the\n",
      "        eigenvalue ``w[i]``.\n",
      "    \n",
      "    Raises\n",
      "    ------\n",
      "    LinAlgError\n",
      "        If the eigenvalue computation does not converge.\n",
      "    \n",
      "    See Also\n",
      "    --------\n",
      "    eigvals : eigenvalues of a non-symmetric array.\n",
      "    eigh : eigenvalues and eigenvectors of a real symmetric or complex\n",
      "           Hermitian (conjugate symmetric) array.\n",
      "    eigvalsh : eigenvalues of a real symmetric or complex Hermitian\n",
      "               (conjugate symmetric) array.\n",
      "    scipy.linalg.eig : Similar function in SciPy that also solves the\n",
      "                       generalized eigenvalue problem.\n",
      "    scipy.linalg.schur : Best choice for unitary and other non-Hermitian\n",
      "                         normal matrices.\n",
      "    \n",
      "    Notes\n",
      "    -----\n",
      "    \n",
      "    .. versionadded:: 1.8.0\n",
      "    \n",
      "    Broadcasting rules apply, see the `numpy.linalg` documentation for\n",
      "    details.\n",
      "    \n",
      "    This is implemented using the ``_geev`` LAPACK routines which compute\n",
      "    the eigenvalues and eigenvectors of general square arrays.\n",
      "    \n",
      "    The number `w` is an eigenvalue of `a` if there exists a vector\n",
      "    `v` such that ``a @ v = w * v``. Thus, the arrays `a`, `w`, and\n",
      "    `v` satisfy the equations ``a @ v[:,i] = w[i] * v[:,i]``\n",
      "    for :math:`i \\in \\{0,...,M-1\\}`.\n",
      "    \n",
      "    The array `v` of eigenvectors may not be of maximum rank, that is, some\n",
      "    of the columns may be linearly dependent, although round-off error may\n",
      "    obscure that fact. If the eigenvalues are all different, then theoretically\n",
      "    the eigenvectors are linearly independent and `a` can be diagonalized by\n",
      "    a similarity transformation using `v`, i.e, ``inv(v) @ a @ v`` is diagonal.\n",
      "    \n",
      "    For non-Hermitian normal matrices the SciPy function `scipy.linalg.schur`\n",
      "    is preferred because the matrix `v` is guaranteed to be unitary, which is\n",
      "    not the case when using `eig`. The Schur factorization produces an\n",
      "    upper triangular matrix rather than a diagonal matrix, but for normal\n",
      "    matrices only the diagonal of the upper triangular matrix is needed, the\n",
      "    rest is roundoff error.\n",
      "    \n",
      "    Finally, it is emphasized that `v` consists of the *right* (as in\n",
      "    right-hand side) eigenvectors of `a`.  A vector `y` satisfying\n",
      "    ``y.T @ a = z * y.T`` for some number `z` is called a *left*\n",
      "    eigenvector of `a`, and, in general, the left and right eigenvectors\n",
      "    of a matrix are not necessarily the (perhaps conjugate) transposes\n",
      "    of each other.\n",
      "    \n",
      "    References\n",
      "    ----------\n",
      "    G. Strang, *Linear Algebra and Its Applications*, 2nd Ed., Orlando, FL,\n",
      "    Academic Press, Inc., 1980, Various pp.\n",
      "    \n",
      "    Examples\n",
      "    --------\n",
      "    >>> from numpy import linalg as LA\n",
      "    \n",
      "    (Almost) trivial example with real e-values and e-vectors.\n",
      "    \n",
      "    >>> w, v = LA.eig(np.diag((1, 2, 3)))\n",
      "    >>> w; v\n",
      "    array([1., 2., 3.])\n",
      "    array([[1., 0., 0.],\n",
      "           [0., 1., 0.],\n",
      "           [0., 0., 1.]])\n",
      "    \n",
      "    Real matrix possessing complex e-values and e-vectors; note that the\n",
      "    e-values are complex conjugates of each other.\n",
      "    \n",
      "    >>> w, v = LA.eig(np.array([[1, -1], [1, 1]]))\n",
      "    >>> w; v\n",
      "    array([1.+1.j, 1.-1.j])\n",
      "    array([[0.70710678+0.j        , 0.70710678-0.j        ],\n",
      "           [0.        -0.70710678j, 0.        +0.70710678j]])\n",
      "    \n",
      "    Complex-valued matrix with real e-values (but complex-valued e-vectors);\n",
      "    note that ``a.conj().T == a``, i.e., `a` is Hermitian.\n",
      "    \n",
      "    >>> a = np.array([[1, 1j], [-1j, 1]])\n",
      "    >>> w, v = LA.eig(a)\n",
      "    >>> w; v\n",
      "    array([2.+0.j, 0.+0.j])\n",
      "    array([[ 0.        +0.70710678j,  0.70710678+0.j        ], # may vary\n",
      "           [ 0.70710678+0.j        , -0.        +0.70710678j]])\n",
      "    \n",
      "    Be careful about round-off error!\n",
      "    \n",
      "    >>> a = np.array([[1 + 1e-9, 0], [0, 1 - 1e-9]])\n",
      "    >>> # Theor. e-values are 1 +/- 1e-9\n",
      "    >>> w, v = LA.eig(a)\n",
      "    >>> w; v\n",
      "    array([1., 1.])\n",
      "    array([[1., 0.],\n",
      "           [0., 1.]])\n",
      "\n"
     ]
    }
   ],
   "source": [
    "help(np.linalg.eig)"
   ]
  },
  {
   "cell_type": "code",
   "execution_count": 18,
   "metadata": {
    "scrolled": false
   },
   "outputs": [
    {
     "name": "stdout",
     "output_type": "stream",
     "text": [
      "1.568499899946662e-16\n",
      "Hankel singular values =  [6.50901371e+01 1.12610839e-06 6.70617113e-09 9.07333767e-11\n",
      " 7.52557588e-14 1.25165073e-19]\n"
     ]
    }
   ],
   "source": [
    "U_T = np.linalg.cholesky(G_R); #print(np.linalg.norm(U_T@U_T.T - G_R))\n",
    "print(np.linalg.norm(U_T@U_T.T - G_R)/np.linalg.norm(G_R))\n",
    "L = np.linalg.cholesky(G_O)\n",
    "[W,Sigma,VT] = np.linalg.svd(U_T.T @ L); V = VT.T\n",
    "print(\"Hankel singular values = \",Sigma)\n",
    "if 1: # square root\n",
    "    T = U_T @ W @ np.diag(Sigma**-0.5)\n",
    "else:\n",
    "    tmpM = U_T.T @ G_O @ U_T; print(\"cond(U_T.T @ G_O @ U_T) = \",np.linalg.cond(tmpM))\n",
    "    [Sigmasq, K] = np.linalg.eig(tmpM); print(\"orth. check of K: \",np.linalg.norm(K.T@K - np.eye(K.shape[0])))\n",
    "    Sigma = Sigmasq**0.5; print(\"Sigmasq = \",Sigmasq); print(\"Sigma = \",Sigma)\n",
    "    Sigma = np.abs(Sigmasq)**0.5; print(\"Sigma = \",Sigma)\n",
    "    T = np.diag(Sigma**0.5) @ K.T @ np.linalg.inv(U_T).T\n",
    "#endif"
   ]
  },
  {
   "cell_type": "code",
   "execution_count": 19,
   "metadata": {},
   "outputs": [
    {
     "name": "stdout",
     "output_type": "stream",
     "text": [
      "[[ 6.50901371e+01 -6.34997483e-15  1.11519934e-16 -1.03375289e-16\n",
      "  -4.22567797e-17  1.20813744e-15]\n",
      " [ 3.61904562e-15  1.12610840e-06 -1.04062235e-16  8.23875771e-17\n",
      "   1.27208872e-17 -5.21913160e-18]\n",
      " [-3.47458215e-17  2.13135992e-18  6.70617113e-09  4.17055683e-20\n",
      "   6.72749223e-21 -2.24584231e-19]\n",
      " [ 3.59193690e-17  8.83953204e-17 -2.16220625e-18  9.07333784e-11\n",
      "   2.64431416e-19 -2.75233023e-19]\n",
      " [-2.91877802e-17  1.44618899e-17 -3.53673732e-19  2.79924419e-19\n",
      "   7.52558020e-14 -1.92254936e-20]\n",
      " [ 1.15983760e-15 -1.84688947e-17  6.36681750e-19 -3.79666647e-19\n",
      "  -5.81963148e-20  2.41722767e-19]]\n"
     ]
    }
   ],
   "source": [
    "print(T.T @ G_O @ T)"
   ]
  },
  {
   "cell_type": "code",
   "execution_count": 20,
   "metadata": {},
   "outputs": [
    {
     "data": {
      "image/png": "[encoded data removed]",
      "text/plain": [
       "<Figure size 432x288 with 1 Axes>"
      ]
     },
     "metadata": {},
     "output_type": "display_data"
    }
   ],
   "source": [
    "M = T.T @ G_O @ T\n",
    "plt.figure(); plt.spy(M,precision=1.e-14); plt.show()"
   ]
  },
  {
   "cell_type": "code",
   "execution_count": 21,
   "metadata": {
    "collapsed": true
   },
   "outputs": [],
   "source": [
    "invT = np.linalg.inv(T)"
   ]
  },
  {
   "cell_type": "code",
   "execution_count": 22,
   "metadata": {},
   "outputs": [
    {
     "name": "stdout",
     "output_type": "stream",
     "text": [
      "[[ 6.50901371e+01 -1.44074225e-15 -3.61798569e-16 -4.53581749e-16\n",
      "   4.27751638e-20 -1.70198615e-20]\n",
      " [-7.73059049e-16  1.12610839e-06  6.32160761e-19 -1.43665938e-18\n",
      "  -3.66707260e-20  2.73002786e-21]\n",
      " [-3.65147990e-16  9.65470308e-19  6.70617113e-09  5.24156243e-21\n",
      "   1.33693067e-22 -1.00165235e-23]\n",
      " [-4.45176796e-16 -1.44927318e-18  3.46462822e-21  9.07333767e-11\n",
      "  -2.00963489e-22  1.50421486e-23]\n",
      " [ 1.43486243e-19 -3.19776080e-20  7.63091793e-23 -1.73564223e-22\n",
      "   7.52557588e-14  3.32466612e-25]\n",
      " [-2.13500270e-20  2.89979381e-21 -6.92481692e-24  1.57333285e-23\n",
      "   4.01812756e-25  1.25165042e-19]]\n"
     ]
    }
   ],
   "source": [
    "print(invT @ G_R @ invT.T)"
   ]
  },
  {
   "cell_type": "code",
   "execution_count": 23,
   "metadata": {},
   "outputs": [
    {
     "data": {
      "image/png": "[encoded data removed]",
      "text/plain": [
       "<Figure size 432x288 with 1 Axes>"
      ]
     },
     "metadata": {},
     "output_type": "display_data"
    }
   ],
   "source": [
    "M = invT @ G_R @ invT.T\n",
    "plt.figure(); plt.spy(M,precision=1.e-14); plt.show()"
   ]
  },
  {
   "cell_type": "code",
   "execution_count": 13,
   "metadata": {},
   "outputs": [
    {
     "name": "stdout",
     "output_type": "stream",
     "text": [
      "[-2.37776056e-05 -5.34150047e-05 -4.53059144e-05 -4.55574940e-02\n",
      " -5.19336797e-02 -2.59834985e-02]\n",
      "the first new variable describes the mean displacement and velocity of the masses.\\Therefore, it describes relatively more the lightest, more mobile, one.\n"
     ]
    }
   ],
   "source": [
    "# the most reachable and observable new variable is this linear combination of the \n",
    "# original state variables:\n",
    "print(invT[0,:])\n",
    "print(\"the first new variable describes the mean displacement and velocity of the masses.\\\\\n",
    "Therefore, it describes relatively more the lightest, more mobile, one.\")"
   ]
  },
  {
   "cell_type": "code",
   "execution_count": 14,
   "metadata": {},
   "outputs": [
    {
     "name": "stdout",
     "output_type": "stream",
     "text": [
      "[-3.62145388e-11  9.28015757e-10 -9.18887468e-03 -1.07901028e-01\n",
      "  1.67870978e-01  2.99187490e+00]\n",
      "it involves mainly the third, heaviest, mass!\n"
     ]
    }
   ],
   "source": [
    "# the least reachable and observable new variable is this linear combination of the \n",
    "# original state variables:\n",
    "print(invT[-1,:])\n",
    "print(\"it involves mainly the third, heaviest, mass!\")"
   ]
  },
  {
   "cell_type": "code",
   "execution_count": null,
   "metadata": {
    "collapsed": true
   },
   "outputs": [],
   "source": []
  }
 ],
 "metadata": {
  "anaconda-cloud": {},
  "kernelspec": {
   "display_name": "Python 3",
   "language": "python",
   "name": "python3"
  },
  "language_info": {
   "codemirror_mode": {
    "name": "ipython",
    "version": 3
   },
   "file_extension": ".py",
   "mimetype": "text/x-python",
   "name": "python",
   "nbconvert_exporter": "python",
   "pygments_lexer": "ipython3",
   "version": "3.6.8"
  }
 },
 "nbformat": 4,
 "nbformat_minor": 1
}
