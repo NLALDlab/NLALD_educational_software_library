{
 "cells": [
  {
   "cell_type": "code",
   "execution_count": 1,
   "metadata": {
    "collapsed": true
   },
   "outputs": [],
   "source": [
    "# NB: per eseguire questo notebook come file Python, scegliere il menù \"File -> Download as -> Python (.py)\" .\n",
    "%matplotlib inline\n",
    "import numpy as np\n",
    "import matplotlib.pyplot as plt"
   ]
  },
  {
   "cell_type": "code",
   "execution_count": 2,
   "metadata": {
    "collapsed": true
   },
   "outputs": [],
   "source": [
    "# In questo notebook vediamo tutte le funzioni di numpy per riconoscere dimensioni e lunghezza delle variabili.\n",
    "# In particolare, vediamo i valori assunti da queste funzioni quando l'argomento è uno scalare/vettore/matrice \n",
    "# con una sola componente, perche' e' una situazione che puo' creare delle ambiguita'."
   ]
  },
  {
   "cell_type": "code",
   "execution_count": 3,
   "metadata": {
    "collapsed": false
   },
   "outputs": [
    {
     "name": "stdout",
     "output_type": "stream",
     "text": [
      "type(a):  <class 'float'>\n",
      "a scalar has no 'len()' !\n",
      "a scalar has no 'size' !\n",
      "a scalar has no 'shape' !\n",
      "np.ndim(a) =  0\n",
      "for a scalar, np.isscalar() = True\n"
     ]
    }
   ],
   "source": [
    "# cominciamo con uno scalare floating-point \"a\":\n",
    "a = 2.13\n",
    "print(\"type(a): \",type(a))\n",
    "try:\n",
    "    tmp = len(a); print(\"len(a) = \",tmp)\n",
    "except:\n",
    "    print(\"a scalar has no 'len()' !\")\n",
    "#endtry\n",
    "try:\n",
    "    tmp = a.size; print(\"a.size = \",tmp)\n",
    "except:\n",
    "    print(\"a scalar has no 'size' !\")\n",
    "#endtry\n",
    "try:\n",
    "    tmp = a.shape; print(\"a.shape = \",tmp)\n",
    "except:\n",
    "    print(\"a scalar has no 'shape' !\")\n",
    "#endtry\n",
    "try:\n",
    "    tmp = np.ndim(a); print(\"np.ndim(a) = \",tmp)\n",
    "except:\n",
    "    print(\"a scalar has no 'np.ndim()' !\")\n",
    "#endtry\n",
    "print(\"for a scalar, np.isscalar() =\",np.isscalar(a))"
   ]
  },
  {
   "cell_type": "code",
   "execution_count": 4,
   "metadata": {
    "collapsed": false
   },
   "outputs": [
    {
     "name": "stdout",
     "output_type": "stream",
     "text": [
      "type(a):  <class 'numpy.ndarray'>\n",
      "a numpy array created from a scalar has no 'len()' !\n",
      "a.size =  1\n",
      "a.shape =  ()\n",
      "np.ndim(a) =  0\n",
      "for a numpy array created from a scalar, np.isscalar() = False\n"
     ]
    }
   ],
   "source": [
    "# vediamo ora un array con una sola componente, creato da uno scalare:\n",
    "a = np.array(3.44)\n",
    "print(\"type(a): \",type(a))\n",
    "try:\n",
    "    tmp = len(a); print(\"len(a) = \",tmp)\n",
    "except:\n",
    "    print(\"a numpy array created from a scalar has no 'len()' !\")\n",
    "#endtry\n",
    "try:\n",
    "    tmp = a.size; print(\"a.size = \",tmp)\n",
    "except:\n",
    "    print(\"a numpy array created from a scalar has no 'size' !\")\n",
    "#endtry\n",
    "try:\n",
    "    tmp = a.shape; print(\"a.shape = \",tmp)\n",
    "except:\n",
    "    print(\"a numpy array created from a scalar has no 'shape' !\")\n",
    "#endtry\n",
    "try:\n",
    "    tmp = np.ndim(a); print(\"np.ndim(a) = \",tmp)\n",
    "except:\n",
    "    print(\"a numpy array created from a scalar has no 'np.ndim()' !\")\n",
    "#endtry\n",
    "print(\"for a numpy array created from a scalar, np.isscalar() =\",np.isscalar(a))"
   ]
  },
  {
   "cell_type": "code",
   "execution_count": 5,
   "metadata": {
    "collapsed": false
   },
   "outputs": [
    {
     "name": "stdout",
     "output_type": "stream",
     "text": [
      "type(a):  <class 'numpy.ndarray'>\n",
      "len(a) =  1\n",
      "a.size =  1\n",
      "a.shape =  (1,)\n",
      "np.ndim(a) =  1\n",
      "for a numpy array created from a one-component list, np.isscalar() = False\n"
     ]
    }
   ],
   "source": [
    "# vediamo ora un array con una sola componente, creato da una lista:\n",
    "a = np.array([12.2])\n",
    "print(\"type(a): \",type(a))\n",
    "try:\n",
    "    tmp = len(a); print(\"len(a) = \",tmp)\n",
    "except:\n",
    "    print(\"a numpy array created from a one-component list has no 'len()' !\")\n",
    "#endtry\n",
    "try:\n",
    "    tmp = a.size; print(\"a.size = \",tmp)\n",
    "except:\n",
    "    print(\"a numpy array created from a one-component list has no 'size' !\")\n",
    "#endtry\n",
    "try:\n",
    "    tmp = a.shape; print(\"a.shape = \",tmp)\n",
    "except:\n",
    "    print(\"a numpy array created from a one-component list has no 'shape' !\")\n",
    "#endtry\n",
    "try:\n",
    "    tmp = np.ndim(a); print(\"np.ndim(a) = \",tmp)\n",
    "except:\n",
    "    print(\"a numpy array created from a one-component list has no 'np.ndim()' !\")\n",
    "#endtry\n",
    "print(\"for a numpy array created from a one-component list, np.isscalar() =\",np.isscalar(a))"
   ]
  },
  {
   "cell_type": "code",
   "execution_count": 6,
   "metadata": {
    "collapsed": false
   },
   "outputs": [
    {
     "name": "stdout",
     "output_type": "stream",
     "text": [
      "np.ndim(a) =  0\n",
      "np.ndim(b) =  1\n",
      "np.ndim(c) =  1\n",
      "np.ndim(d) =  1\n"
     ]
    }
   ],
   "source": [
    "# Nota: per rendere un array numpy di dimensione almeno 1, si puo' utilizzare \"np.atleast_1d()\":\n",
    "a = np.array(3.14)\n",
    "print(\"np.ndim(a) = \",np.ndim(a))\n",
    "b = np.atleast_1d(a)\n",
    "print(\"np.ndim(b) = \",np.ndim(b))\n",
    "c = np.array([2.2])\n",
    "print(\"np.ndim(c) = \",np.ndim(c))\n",
    "d = np.atleast_1d(tmp)\n",
    "print(\"np.ndim(d) = \",np.ndim(d))"
   ]
  },
  {
   "cell_type": "code",
   "execution_count": 7,
   "metadata": {
    "collapsed": false
   },
   "outputs": [
    {
     "name": "stdout",
     "output_type": "stream",
     "text": [
      "type(a):  <class 'numpy.ndarray'>\n",
      "len(a) =  1\n",
      "a.size =  1\n",
      "a.shape =  (1, 1)\n",
      "np.ndim(a) =  2\n",
      "for a numpy array created from a one-component two-dimensional list, np.isscalar() = False\n"
     ]
    }
   ],
   "source": [
    "# vediamo ora un array con una sola componente, creato da una lista bidimensionale:\n",
    "a = np.array([[12.2]])\n",
    "print(\"type(a): \",type(a))\n",
    "try:\n",
    "    tmp = len(a); print(\"len(a) = \",tmp)\n",
    "except:\n",
    "    print(\"a numpy array created from a one-component two-dimensional list has no 'len()' !\")\n",
    "#endtry\n",
    "try:\n",
    "    tmp = a.size; print(\"a.size = \",tmp)\n",
    "except:\n",
    "    print(\"a numpy array created from a one-component two-dimensional list has no 'size' !\")\n",
    "#endtry\n",
    "try:\n",
    "    tmp = a.shape; print(\"a.shape = \",tmp)\n",
    "except:\n",
    "    print(\"a numpy array created from a one-component two-dimensional list has no 'shape' !\")\n",
    "#endtry\n",
    "try:\n",
    "    tmp = np.ndim(a); print(\"np.ndim(a) = \",tmp)\n",
    "except:\n",
    "    print(\"a numpy array created from a one-component two-dimensional list has no 'np.ndim()' !\")\n",
    "#endtry\n",
    "print(\"for a numpy array created from a one-component two-dimensional list, np.isscalar() =\",np.isscalar(a))"
   ]
  },
  {
   "cell_type": "code",
   "execution_count": null,
   "metadata": {
    "collapsed": true
   },
   "outputs": [],
   "source": []
  }
 ],
 "metadata": {
  "anaconda-cloud": {},
  "kernelspec": {
   "display_name": "Python [conda env:py36]",
   "language": "python",
   "name": "conda-env-py36-py"
  },
  "language_info": {
   "codemirror_mode": {
    "name": "ipython",
    "version": 3
   },
   "file_extension": ".py",
   "mimetype": "text/x-python",
   "name": "python",
   "nbconvert_exporter": "python",
   "pygments_lexer": "ipython3",
   "version": "3.6.8"
  }
 },
 "nbformat": 4,
 "nbformat_minor": 1
}
