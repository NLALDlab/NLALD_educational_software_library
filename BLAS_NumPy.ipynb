{
 "cells": [
  {
   "cell_type": "code",
   "execution_count": 2,
   "metadata": {},
   "outputs": [],
   "source": [
    "# import di moduli esterni:\n",
    "import numpy as np\n",
    "import matplotlib.pyplot as plt"
   ]
  },
  {
   "cell_type": "code",
   "execution_count": 6,
   "metadata": {},
   "outputs": [
    {
     "name": "stdout",
     "output_type": "stream",
     "text": [
      "tipo di A:  <class 'numpy.ndarray'>\n",
      "[[1. 0. 0. 0.]\n",
      " [0. 1. 0. 0.]\n",
      " [0. 0. 1. 0.]\n",
      " [0. 0. 0. 1.]]\n"
     ]
    }
   ],
   "source": [
    "A = np.eye(4)\n",
    "print(\"tipo di A: \",type(A))\n",
    "print(A)"
   ]
  },
  {
   "cell_type": "code",
   "execution_count": 4,
   "metadata": {},
   "outputs": [
    {
     "name": "stdout",
     "output_type": "stream",
     "text": [
      "[1 2 3]\n",
      "[[2 4]\n",
      " [5 1]]\n",
      "[[0.8215493  0.00480021 0.54736397]\n",
      " [0.0011447  0.82515207 0.00125319]\n",
      " [0.79138628 0.2031487  0.95943661]]\n",
      "[[[[1. 1.]\n",
      "   [1. 1.]]\n",
      "\n",
      "  [[1. 1.]\n",
      "   [1. 1.]]]\n",
      "\n",
      "\n",
      " [[[1. 1.]\n",
      "   [1. 1.]]\n",
      "\n",
      "  [[1. 1.]\n",
      "   [1. 1.]]]]\n",
      "[[0. 0.]\n",
      " [0. 0.]\n",
      " [0. 0.]]\n",
      "D =  [[1 0 0]\n",
      " [0 2 0]\n",
      " [0 0 3]]\n",
      "[1 2 3]\n"
     ]
    }
   ],
   "source": [
    "# alcuni costruttori di array definiti in numpy:\n",
    "v = np.array([1, 2, 3])\n",
    "print(v)\n",
    "M = np.array([[2, 4],[5, 1]])\n",
    "print(M)\n",
    "M2 = np.random.rand(3,3)\n",
    "print(M2)\n",
    "vmd = np.ones((2,2,2,2))\n",
    "print(vmd)\n",
    "zm = np.zeros((3,2))\n",
    "print(zm)\n",
    "D = np.diag(v)\n",
    "print(\"D = \",D)\n",
    "print(np.diag(D))"
   ]
  },
  {
   "cell_type": "code",
   "execution_count": 8,
   "metadata": {},
   "outputs": [
    {
     "data": {
      "text/plain": [
       "array([1., 1.])"
      ]
     },
     "execution_count": 8,
     "metadata": {},
     "output_type": "execute_result"
    }
   ],
   "source": [
    "vmd[0,0,0:1+1,0]"
   ]
  },
  {
   "cell_type": "code",
   "execution_count": 9,
   "metadata": {},
   "outputs": [],
   "source": [
    "#help(np.random)"
   ]
  },
  {
   "cell_type": "code",
   "execution_count": 10,
   "metadata": {},
   "outputs": [
    {
     "data": {
      "text/plain": [
       "numpy.ndarray"
      ]
     },
     "execution_count": 10,
     "metadata": {},
     "output_type": "execute_result"
    }
   ],
   "source": [
    "# come faccio a sapere il tipo di dato associato alla variabile ?\n",
    "type(M)"
   ]
  },
  {
   "cell_type": "code",
   "execution_count": 11,
   "metadata": {},
   "outputs": [
    {
     "name": "stdout",
     "output_type": "stream",
     "text": [
      "2.0\n",
      "[2 4 6]\n",
      "[[ 4  8]\n",
      " [10  2]]\n",
      "[[ 4  8]\n",
      " [10  2]]\n",
      "1.0\n",
      "[1 4 9]\n",
      "M * M =  [[ 4 16]\n",
      " [25  1]]\n",
      "M @ M =  [[24 12]\n",
      " [15 21]]\n",
      "1.0\n",
      "[1. 1. 1.]\n",
      "[[1. 1.]\n",
      " [1. 1.]]\n"
     ]
    }
   ],
   "source": [
    "# se gli operandi sono dei vettori, come si comportano gli operatori ?\n",
    "a = 1.0\n",
    "# \"+\" o \"-\":\n",
    "print(a + a)\n",
    "print(v + v)\n",
    "print(M + M)\n",
    "print(M + M)\n",
    "# \"*\":\n",
    "print(a * a)\n",
    "print(v * v)\n",
    "print(\"M * M = \",M * M)  # prodotto per componenti\n",
    "print(\"M @ M = \",M @ M)  # prodotto matriciale\n",
    "# \"/\":\n",
    "print(a / a)\n",
    "print(v / v)\n",
    "print(M / M)\n"
   ]
  },
  {
   "cell_type": "code",
   "execution_count": 5,
   "metadata": {},
   "outputs": [
    {
     "name": "stdout",
     "output_type": "stream",
     "text": [
      "[2 5]\n",
      "v =  [[2]\n",
      " [5]]\n",
      "[2 4]\n",
      "[2 4]\n",
      "M dimensions =  (2, 2)\n",
      "[2 4 5 1]\n"
     ]
    }
   ],
   "source": [
    "# slicing, squeeze, reshape, ...\n",
    "print(M[:,0])\n",
    "v = np.atleast_2d(M[:,0]).T\n",
    "print(\"v = \",v)\n",
    "print(M[0,:])\n",
    "print(np.squeeze(np.asarray(M[0,:])))\n",
    "print(\"M dimensions = \",M.shape)\n",
    "print(np.reshape(M,(M.shape[0]*M.shape[1])))"
   ]
  },
  {
   "cell_type": "code",
   "execution_count": 13,
   "metadata": {},
   "outputs": [
    {
     "name": "stdout",
     "output_type": "stream",
     "text": [
      "(2, 2, 2, 2)\n"
     ]
    }
   ],
   "source": [
    "print(vmd.shape)"
   ]
  },
  {
   "cell_type": "code",
   "execution_count": 6,
   "metadata": {},
   "outputs": [],
   "source": [
    "v = M[:,1]"
   ]
  },
  {
   "cell_type": "code",
   "execution_count": 7,
   "metadata": {},
   "outputs": [
    {
     "name": "stdout",
     "output_type": "stream",
     "text": [
      "[4 1]\n"
     ]
    }
   ],
   "source": [
    "print(v)"
   ]
  },
  {
   "cell_type": "code",
   "execution_count": 8,
   "metadata": {},
   "outputs": [
    {
     "data": {
      "text/plain": [
       "numpy.ndarray"
      ]
     },
     "execution_count": 8,
     "metadata": {},
     "output_type": "execute_result"
    }
   ],
   "source": [
    "type(v)"
   ]
  },
  {
   "cell_type": "code",
   "execution_count": 9,
   "metadata": {},
   "outputs": [
    {
     "name": "stdout",
     "output_type": "stream",
     "text": [
      "[[4]\n",
      " [1]]\n"
     ]
    }
   ],
   "source": [
    "print(np.atleast_2d(v).T) "
   ]
  },
  {
   "cell_type": "code",
   "execution_count": 10,
   "metadata": {},
   "outputs": [
    {
     "data": {
      "text/plain": [
       "array([[17]])"
      ]
     },
     "execution_count": 10,
     "metadata": {},
     "output_type": "execute_result"
    }
   ],
   "source": [
    "v = np.atleast_2d(v).T\n",
    "v.T @ v"
   ]
  },
  {
   "cell_type": "code",
   "execution_count": 11,
   "metadata": {},
   "outputs": [
    {
     "data": {
      "text/plain": [
       "array([[16,  4],\n",
       "       [ 4,  1]])"
      ]
     },
     "execution_count": 11,
     "metadata": {},
     "output_type": "execute_result"
    }
   ],
   "source": [
    "v @ v.T"
   ]
  },
  {
   "cell_type": "code",
   "execution_count": null,
   "metadata": {},
   "outputs": [],
   "source": []
  },
  {
   "cell_type": "code",
   "execution_count": null,
   "metadata": {},
   "outputs": [],
   "source": []
  }
 ],
 "metadata": {
  "anaconda-cloud": {},
  "kernelspec": {
   "display_name": "Python 3",
   "language": "python",
   "name": "python3"
  },
  "language_info": {
   "codemirror_mode": {
    "name": "ipython",
    "version": 3
   },
   "file_extension": ".py",
   "mimetype": "text/x-python",
   "name": "python",
   "nbconvert_exporter": "python",
   "pygments_lexer": "ipython3",
   "version": "3.6.8"
  }
 },
 "nbformat": 4,
 "nbformat_minor": 1
}
