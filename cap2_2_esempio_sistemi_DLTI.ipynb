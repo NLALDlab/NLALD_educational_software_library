{
 "cells": [
  {
   "cell_type": "code",
   "execution_count": null,
   "metadata": {
    "collapsed": true
   },
   "outputs": [],
   "source": [
    "%matplotlib inline\n",
    "# NB: per eseguire questo notebook come file Python, commentare l'istruzione \"%matplotlib inline\" qui sopra e scegliere il menù \"File -> Download as -> Python (.py)\"\n",
    "import numpy as np\n",
    "import matplotlib.pyplot as plt\n",
    "from sistemi_DLTI import *"
   ]
  },
  {
   "cell_type": "code",
   "execution_count": null,
   "metadata": {
    "collapsed": false
   },
   "outputs": [],
   "source": [
    "# calcolo della risposta al campione unitario per la rappresentazione ARMA:\n",
    "a = np.array([1., 0.5, 0.7])\n",
    "b = np.array([4., 2.1])\n",
    "N = 64\n",
    "u = np.zeros(N); u[0] = 1.0\n",
    "y = simula_DLTI(b,a,u)\n",
    "plt.figure(1); plt.plot(y,'r-'); plt.show()"
   ]
  },
  {
   "cell_type": "code",
   "execution_count": null,
   "metadata": {
    "collapsed": false
   },
   "outputs": [],
   "source": [
    "# calcolo della risposta al campione unitario per la rappresentazione state-space a tempo continuo:\n",
    "N = 128\n",
    "A = np.array([[.8, -10.2],[10.2, -4.]])\n",
    "B = np.array([[1.],[0.]])\n",
    "C = np.array([[1., 0.]])\n",
    "D = np.array([[0.]])\n",
    "u = np.zeros((1,N)); u[0,0] = 1.0\n",
    "x0 = np.zeros(A.shape[0])\n",
    "Ts = 0.02\n",
    "y,X_hist,Ad = simula_DLTI_StateSpace_continuo(A,B,C,D,u,x0,Ts)\n",
    "plt.figure(2); plt.plot(y[0,:].T); plt.show()"
   ]
  },
  {
   "cell_type": "code",
   "execution_count": null,
   "metadata": {
    "collapsed": false
   },
   "outputs": [],
   "source": [
    "# calcolo della risposta al campione unitario per la rappresentazione state-space a tempo discreto:\n",
    "N = 128\n",
    "A = np.array([[-.8, 0.2],[0.2, -0.32]])\n",
    "B = np.array([[1.],[0.]])\n",
    "C = np.array([[1., 0.]])\n",
    "D = np.array([[0.]])\n",
    "u = np.zeros((1,N)); u[0,0] = 1.0\n",
    "x0 = np.atleast_2d(np.zeros(A.shape[0])).T\n",
    "y,X_hist = simula_DLTI_StateSpace_discreto(A,B,C,D,u,x0)\n",
    "plt.figure(3); plt.plot(y[0,:].T); plt.show()\n",
    "aA,vA=np.linalg.eig(A)\n",
    "print(aA, abs(aA))"
   ]
  },
  {
   "cell_type": "code",
   "execution_count": null,
   "metadata": {
    "collapsed": false
   },
   "outputs": [],
   "source": []
  },
  {
   "cell_type": "code",
   "execution_count": null,
   "metadata": {
    "collapsed": true
   },
   "outputs": [],
   "source": []
  }
 ],
 "metadata": {
  "anaconda-cloud": {},
  "kernelspec": {
   "display_name": "Python [conda env:py36]",
   "language": "python",
   "name": "conda-env-py36-py"
  },
  "language_info": {
   "codemirror_mode": {
    "name": "ipython",
    "version": 3
   },
   "file_extension": ".py",
   "mimetype": "text/x-python",
   "name": "python",
   "nbconvert_exporter": "python",
   "pygments_lexer": "ipython3",
   "version": "3.6.8"
  }
 },
 "nbformat": 4,
 "nbformat_minor": 1
}
